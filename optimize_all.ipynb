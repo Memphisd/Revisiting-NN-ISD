{
 "cells": [
  {
   "cell_type": "code",
   "execution_count": 1,
   "id": "328762db-084a-4c68-a0a3-2df604bf1658",
   "metadata": {},
   "outputs": [],
   "source": [
    "import multiprocessing\n",
    "import scipy.optimize as opt\n",
    "multiprocessing.set_start_method('fork')\n"
   ]
  },
  {
   "cell_type": "code",
   "execution_count": 2,
   "id": "3d2ad236-3b6c-48bf-85cc-015176ee1ae0",
   "metadata": {},
   "outputs": [],
   "source": [
    "from basic_functionalities import *\n",
    "import bjmm_mo\n",
    "import mo\n",
    "import bm_depth_4\n",
    "import bm_depth_2\n",
    "import bm_plus_depth_4"
   ]
  },
  {
   "cell_type": "code",
   "execution_count": 3,
   "id": "12e2d99f-c20d-409e-904c-662e6d501a5e",
   "metadata": {},
   "outputs": [],
   "source": [
    "def optimize(time,num_params,constraints):\n",
    "    start = r(0.001,0.01,num_params)\n",
    "    bounds = [(0, 1)]*num_params\n",
    "    \n",
    "    result = opt.minimize(time, start, \n",
    "            bounds= bounds, tol=1e-10, \n",
    "            constraints=constraints, options={'maxiter':1000})\n",
    "    return result\n",
    "\n",
    "def set_env(module, rate):\n",
    "    module.k = lambda x : rate\n",
    "    module.w = lambda x : Hi(1-rate)\n",
    "\n",
    "def get_data(module):\n",
    "    time        = module.time\n",
    "    constraints = module.constraints\n",
    "    num_vars    = module.num_vars\n",
    "    return time, constraints, num_vars\n",
    "\n",
    "def parallel():\n",
    "    time, constraints, num_vars= get_data(module)\n",
    "    return optimize(time,num_vars,constraints)\n",
    "\n",
    "#finds minimum running time for chosen module and given rate k\n",
    "def find_minimum_for_rate(k):\n",
    "    set_env(module,k)\n",
    "    \n",
    "    count=0\n",
    "    minval=1\n",
    "    data=None\n",
    "\n",
    "    while count<maxiter:\n",
    "        candidates=[]\n",
    "        with multiprocessing.Pool(PROCESSES) as pool:\n",
    "            params = range(PROCESSES)\n",
    "            results = [pool.apply_async(parallel) for p in range(PROCESSES*elements_per_process)]\n",
    "            for i in results:\n",
    "                candidates.append(i.get())\n",
    "        for i in candidates:\n",
    "            if i is None:\n",
    "                continue\n",
    "            if time(i.x)<minval and i.success:\n",
    "                minval=time(i.x)\n",
    "                data=i.copy()\n",
    "            count+=1\n",
    "    return data"
   ]
  },
  {
   "cell_type": "markdown",
   "id": "eb8e401a-2f1a-410d-b230-1f5ae2fd3a9b",
   "metadata": {},
   "source": [
    "### Customize here"
   ]
  },
  {
   "cell_type": "code",
   "execution_count": 4,
   "id": "9fbd3036-cb0e-4cc4-8a72-ee25fe0d94d1",
   "metadata": {},
   "outputs": [],
   "source": [
    "# Set module and threads/proccesses used for running the optimization\n",
    "# Each thread runs the optimization ``elements_per_process`` many times \n",
    "# Note that the optimization has to be run multiple times to ensure the \n",
    "# true global minimum is found, hence ``PROCESSES*elements_per_process`` \n",
    "# should be large enough\n",
    "\n",
    "module = mo\n",
    "PROCESSES = 8\n",
    "elements_per_process=1\n",
    "\n",
    "time,constraints, num_vars= get_data(module)\n",
    "memory=module.memory\n",
    "maxiter=PROCESSES*elements_per_process\n"
   ]
  },
  {
   "cell_type": "code",
   "execution_count": 5,
   "id": "ad96b53e-9d7b-4327-a31a-c5ea0a05d7f6",
   "metadata": {},
   "outputs": [
    {
     "data": {
      "text/plain": [
       "{'x': array([0.06454529, 0.00406344, 0.02024555, 0.08720324, 0.10216953]),\n",
       " 'fun': 0.09666529696440852,\n",
       " 'jac': array([1.56989038, 9.23391362, 5.72679329, 0.08520855, 0.08520855]),\n",
       " 'nit': 74,\n",
       " 'nfev': 660,\n",
       " 'njev': 73,\n",
       " 'status': 0,\n",
       " 'message': 'Optimization terminated successfully',\n",
       " 'success': True}"
      ]
     },
     "execution_count": 5,
     "metadata": {},
     "output_type": "execute_result"
    }
   ],
   "source": [
    "#Example: finds optimal parameters / running time for rate 0.42\n",
    "find_minimum_for_rate(0.42)"
   ]
  },
  {
   "cell_type": "code",
   "execution_count": null,
   "id": "f2628757-a25a-4a48-8494-94f4e6946432",
   "metadata": {},
   "outputs": [],
   "source": [
    "#create list with optimum for all rates\n",
    "k=0.01\n",
    "Lfd=[]\n",
    "while k<1:\n",
    "    data=find_minimum_for_rate(k)\n",
    "    Lfd.append([k,data])\n",
    "    k+=0.01"
   ]
  },
  {
   "cell_type": "code",
   "execution_count": null,
   "id": "1158e53c-da2a-404a-be52-0808b65f0be2",
   "metadata": {},
   "outputs": [],
   "source": [
    "#extract time and memory lists from Lfd\n",
    "Ltime=[]\n",
    "Lmem=[]\n",
    "for i in Lfd:\n",
    "    if i[1] is not None:\n",
    "        set_env(module,i[0])\n",
    "        x=module.set_vars(*(i[1]['x']))\n",
    "        Ltime.append([i[0],time(x)])\n",
    "        Lmem.append([i[0],memory(x)])"
   ]
  },
  {
   "cell_type": "markdown",
   "id": "6c2f8ca3-f5ab-42c0-9954-18fca2653e94",
   "metadata": {},
   "source": [
    "### Optimal parameters for worst case complexity of Both-May and Both-May+"
   ]
  },
  {
   "cell_type": "code",
   "execution_count": 6,
   "id": "833be420-1afb-4efb-8c64-716d2d952255",
   "metadata": {
    "tags": []
   },
   "outputs": [
    {
     "data": {
      "text/plain": [
       "(0.09502623352766121, 0.0752976719520608)"
      ]
     },
     "execution_count": 6,
     "metadata": {},
     "output_type": "execute_result"
    }
   ],
   "source": [
    "#Worst case running time Both-May\n",
    "module=bm_depth_4\n",
    "set_env(module,0.42)\n",
    "x=[0.05179949616832484, 0.0009721235534018956, 0.01011389586902574,\n",
    "          0.021291015439529482, 0.04786139166993479, 0.0013155102710478903,\n",
    "          0.002672149147757666, 0.08868019551275919, 0.004811791704030416,\n",
    "          0.006014685075786457, 0.05279675394684703, 0.10177737427236798,\n",
    "          0.12367201215526315, 0.006510417020142931, 0.012199921088212254,\n",
    "          0.015043975055759032]\n",
    "x=module.set_vars(*x)\n",
    "module.time(x),module.memory(x)"
   ]
  },
  {
   "cell_type": "code",
   "execution_count": 7,
   "id": "0b4240ea-c790-4d45-91b0-a0fdaeeebd42",
   "metadata": {},
   "outputs": [
    {
     "data": {
      "text/plain": [
       "(0.09470976999335906, 0.0708826094768819)"
      ]
     },
     "execution_count": 7,
     "metadata": {},
     "output_type": "execute_result"
    }
   ],
   "source": [
    "#Worst case running time Both-May+\n",
    "module=bm_plus_depth_4\n",
    "set_env(module,0.43)\n",
    "x=[4.51370747e-02, 1.35810785e-06, 5.09779316e-03, 1.66180980e-02,\n",
    "   3.46763092e-07, 3.19724760e-04, 1.02650890e-03, 6.20182713e-02,\n",
    "   2.60342068e-03, 1.24946876e-01, 2.62491440e-02, 6.89327271e-02,\n",
    "   1.56717104e-01, 2.76921576e-03, 7.16423163e-03, 2.05768059e-02]\n",
    "    \n",
    "x=module.set_vars(*x)\n",
    "module.time(x),module.memory(x)"
   ]
  }
 ],
 "metadata": {
  "kernelspec": {
   "display_name": "Python 3",
   "language": "python",
   "name": "python3"
  },
  "language_info": {
   "codemirror_mode": {
    "name": "ipython",
    "version": 3
   },
   "file_extension": ".py",
   "mimetype": "text/x-python",
   "name": "python",
   "nbconvert_exporter": "python",
   "pygments_lexer": "ipython3",
   "version": "3.9.10"
  }
 },
 "nbformat": 4,
 "nbformat_minor": 5
}
