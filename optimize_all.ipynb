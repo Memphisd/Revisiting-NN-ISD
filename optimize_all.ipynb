{
 "cells": [
  {
   "cell_type": "code",
   "execution_count": 1,
   "id": "328762db-084a-4c68-a0a3-2df604bf1658",
   "metadata": {
    "tags": []
   },
   "outputs": [],
   "source": [
    "import multiprocessing\n",
    "import scipy.optimize as opt\n",
    "multiprocessing.set_start_method('fork')\n",
    "from numpy import array\n",
    "import matplotlib.pyplot as plt"
   ]
  },
  {
   "cell_type": "code",
   "execution_count": 2,
   "id": "3d2ad236-3b6c-48bf-85cc-015176ee1ae0",
   "metadata": {
    "tags": []
   },
   "outputs": [],
   "source": [
    "from basic_functionalities import *\n",
    "import bjmm_mo\n",
    "import mo\n",
    "import bm_depth_4\n",
    "import bm_depth_2\n",
    "import bm_plus_depth_4\n",
    "import bjmm\n",
    "import mmt\n",
    "import bjmm_tmto\n",
    "import mmt_tmto"
   ]
  },
  {
   "cell_type": "code",
   "execution_count": 3,
   "id": "12e2d99f-c20d-409e-904c-662e6d501a5e",
   "metadata": {
    "tags": []
   },
   "outputs": [],
   "source": [
    "def optimize(time,num_params,constraints):\n",
    "    start = r(0.001,0.01,num_params)\n",
    "    bounds = [(0, 1)]*num_params\n",
    "    \n",
    "    result = opt.minimize(time, start, \n",
    "            bounds= bounds, tol=1e-10, \n",
    "            constraints=constraints, options={'maxiter':1000})\n",
    "    return result\n",
    "\n",
    "def set_env(module, rate):\n",
    "    module.k = lambda x : rate\n",
    "    module.w = lambda x : Hi(1-rate)\n",
    "\n",
    "def get_data(module):\n",
    "    time        = module.time\n",
    "    constraints = module.constraints\n",
    "    num_vars    = module.num_vars\n",
    "    return time, constraints, num_vars\n",
    "\n",
    "def parallel():\n",
    "    time, constraints, num_vars= get_data(module)\n",
    "    return optimize(time,num_vars,constraints)\n",
    "\n",
    "# finds minimum running time for chosen module and given rate k\n",
    "# if specified memory will be restricted to mem\n",
    "def find_minimum_for_rate(k , mem=-1):\n",
    "    set_env(module,k)\n",
    "    \n",
    "    count=0\n",
    "    minval=1\n",
    "    data=None\n",
    "    if mem != -1:\n",
    "        module.constraints.append({ 'type' : 'ineq',   'fun' : module.inject(lambda x : mem-module.memory(x)) }, )\n",
    "    while count<maxiter:\n",
    "        candidates=[]\n",
    "        with multiprocessing.Pool(PROCESSES) as pool:\n",
    "            params = range(PROCESSES)\n",
    "            results = [pool.apply_async(parallel) for p in range(PROCESSES*elements_per_process)]\n",
    "            for i in results:\n",
    "                candidates.append(i.get())\n",
    "        for i in candidates:\n",
    "            if i is None:\n",
    "                continue\n",
    "            if time(i.x)<minval and i.success:\n",
    "                minval=time(i.x)\n",
    "                data=i.copy()\n",
    "            count+=1\n",
    "    if mem !=-1:\n",
    "        _ = module.constraints.pop()\n",
    "    return data\n"
   ]
  },
  {
   "cell_type": "markdown",
   "id": "eb8e401a-2f1a-410d-b230-1f5ae2fd3a9b",
   "metadata": {},
   "source": [
    "## Customize here"
   ]
  },
  {
   "cell_type": "code",
   "execution_count": 46,
   "id": "9fbd3036-cb0e-4cc4-8a72-ee25fe0d94d1",
   "metadata": {
    "tags": []
   },
   "outputs": [],
   "source": [
    "# Set module and threads/proccesses used for running the optimization\n",
    "# Each thread runs the optimization ``elements_per_process`` many times \n",
    "# Note that the optimization has to be run multiple times to ensure the \n",
    "# true global minimum is found, hence ``PROCESSES*elements_per_process`` \n",
    "# should be large enough\n",
    "\n",
    "module = mmt_tmto\n",
    "PROCESSES = 4\n",
    "elements_per_process=3\n",
    "\n",
    "time,constraints, num_vars= get_data(module)\n",
    "memory=module.memory\n",
    "maxiter=PROCESSES*elements_per_process\n"
   ]
  },
  {
   "cell_type": "code",
   "execution_count": 47,
   "id": "ad96b53e-9d7b-4327-a31a-c5ea0a05d7f6",
   "metadata": {
    "tags": []
   },
   "outputs": [],
   "source": [
    "#Example: finds optimal parameters / running time for rate 0.42\n",
    "data=find_minimum_for_rate(0.5)\n",
    "x=module.set_vars(*data[\"x\"])\n",
    "module.time(x)"
   ]
  },
  {
   "cell_type": "markdown",
   "id": "df335aa0-5c39-4ed2-b8cd-887d7e594e3f",
   "metadata": {},
   "source": [
    "## Computing Optimal Time for Different Rates"
   ]
  },
  {
   "cell_type": "code",
   "execution_count": 49,
   "id": "f2628757-a25a-4a48-8494-94f4e6946432",
   "metadata": {
    "tags": []
   },
   "outputs": [
    {
     "name": "stdout",
     "output_type": "stream",
     "text": [
      "0.09999999999999999\n",
      "0.10999999999999999\n",
      "0.20000000000000004\n",
      "0.3000000000000001\n",
      "0.4000000000000002\n",
      "0.5000000000000002\n",
      "0.6000000000000003\n",
      "0.7000000000000004\n",
      "0.8000000000000005\n",
      "0.9000000000000006\n"
     ]
    }
   ],
   "source": [
    "#create list with optimum for all rates\n",
    "k=0.01\n",
    "Lfd=[]\n",
    "while k<1:\n",
    "    if int(k*100)%10==0:\n",
    "        print(k)\n",
    "    data=find_minimum_for_rate(k)\n",
    "    Lfd.append([k,data])\n",
    "    k+=0.01"
   ]
  },
  {
   "cell_type": "code",
   "execution_count": 50,
   "id": "1158e53c-da2a-404a-be52-0808b65f0be2",
   "metadata": {
    "tags": []
   },
   "outputs": [],
   "source": [
    "#extract time and memory lists from Lfd\n",
    "Ltime=[]\n",
    "Lmem=[]\n",
    "for i in Lfd:\n",
    "    if i[1] is not None:\n",
    "        set_env(module,i[0])\n",
    "        x=module.set_vars(*(i[1]['x']))\n",
    "        Ltime.append([i[0],time(x)])\n",
    "        Lmem.append([i[0],memory(x)])"
   ]
  },
  {
   "cell_type": "code",
   "execution_count": 52,
   "id": "4f900217-1f54-4aa6-9c5b-474b735b703f",
   "metadata": {
    "tags": []
   },
   "outputs": [
    {
     "data": {
      "text/plain": [
       "[<matplotlib.lines.Line2D at 0x177968110>]"
      ]
     },
     "execution_count": 52,
     "metadata": {},
     "output_type": "execute_result"
    },
    {
     "data": {
      "image/png": "[encoded data removed]",
      "text/plain": [
       "<Figure size 640x480 with 1 Axes>"
      ]
     },
     "metadata": {},
     "output_type": "display_data"
    }
   ],
   "source": [
    "x,y=zip(*Ltime)\n",
    "plt.plot(x,y)"
   ]
  },
  {
   "cell_type": "markdown",
   "id": "d7a8b9fa-5a57-49cc-96bf-40d6dd85c082",
   "metadata": {},
   "source": [
    "## Computing Time-Memory Trade-Offs"
   ]
  },
  {
   "cell_type": "code",
   "execution_count": 53,
   "id": "7f4c20f7-9d4c-410c-ad81-8e2b7f01f0bb",
   "metadata": {
    "tags": []
   },
   "outputs": [],
   "source": [
    "rate = 0.5\n",
    "def compute_tradeoff():\n",
    "    \"\"\"\n",
    "    Returns list including optimizer results under increasing memory constraints\n",
    "    \"\"\"\n",
    "    L=[]\n",
    "    for i in range(25):\n",
    "        mem = i*0.005 if i !=0 else 1e-6\n",
    "        data =find_minimum_for_rate(rate,mem=mem)\n",
    "        L.append(data)\n",
    "    return L"
   ]
  },
  {
   "cell_type": "code",
   "execution_count": 54,
   "id": "0ecdbf9f-1f52-46ba-80bd-8340025750ab",
   "metadata": {
    "tags": []
   },
   "outputs": [],
   "source": [
    "def extract_tradeoff(L):\n",
    "    \"\"\"\n",
    "    Returns time-memory trade-off list given an output of the compute_trade_off list, i.e., a list with [Time, Memory] for increasing memory, Time is the best time obtained under restricted memory\n",
    "    \"\"\"\n",
    "    Ltm=[]\n",
    "    for i in L:\n",
    "        if i == None:\n",
    "            continue\n",
    "        set_env(module,rate)\n",
    "        x=module.set_vars(*(i['x']))\n",
    "        Ltm.append([memory(x),time(x)])\n",
    "    return Ltm"
   ]
  },
  {
   "cell_type": "code",
   "execution_count": 55,
   "id": "e107a36b-ae0b-438b-bcfe-9fed3a4b6781",
   "metadata": {
    "tags": []
   },
   "outputs": [],
   "source": [
    "L = compute_tradeoff()\n"
   ]
  },
  {
   "cell_type": "code",
   "execution_count": 57,
   "id": "9ff0bbf4-14cc-4336-ba15-40a72a57af23",
   "metadata": {},
   "outputs": [
    {
     "data": {
      "text/plain": [
       "[<matplotlib.lines.Line2D at 0x17797ff50>]"
      ]
     },
     "execution_count": 57,
     "metadata": {},
     "output_type": "execute_result"
    },
    {
     "data": {
      "image/png": "[encoded data removed]",
      "text/plain": [
       "<Figure size 640x480 with 1 Axes>"
      ]
     },
     "metadata": {},
     "output_type": "display_data"
    }
   ],
   "source": [
    "Ltm=extract_tradeoff(L)\n",
    "x,y=zip(*Ltm)\n",
    "plt.plot(y,x)"
   ]
  }
 ],
 "metadata": {
  "kernelspec": {
   "display_name": "Python 3 (ipykernel)",
   "language": "python",
   "name": "python3"
  },
  "language_info": {
   "codemirror_mode": {
    "name": "ipython",
    "version": 3
   },
   "file_extension": ".py",
   "mimetype": "text/x-python",
   "name": "python",
   "nbconvert_exporter": "python",
   "pygments_lexer": "ipython3",
   "version": "3.11.3"
  }
 },
 "nbformat": 4,
 "nbformat_minor": 5
}
